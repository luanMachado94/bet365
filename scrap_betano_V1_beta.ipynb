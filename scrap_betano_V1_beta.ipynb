{
 "cells": [
  {
   "cell_type": "code",
   "execution_count": 2,
   "metadata": {},
   "outputs": [],
   "source": [
    "import re\n",
    "from collections import defaultdict\n",
    "from seleniumbase import Driver\n",
    "import pandas as pd\n",
    "from selenium.webdriver.common.by import By\n",
    "from selenium.webdriver.support import expected_conditions\n",
    "from selenium.webdriver.support.wait import WebDriverWait\n",
    "from a_selenium2df import get_df\n",
    "from PrettyColorPrinter import add_printer\n",
    "import numpy as np\n"
   ]
  },
  {
   "cell_type": "code",
   "execution_count": 205,
   "metadata": {},
   "outputs": [],
   "source": [
    "add_printer(1)\n",
    "\n",
    "\n",
    "def obter_dataframe(query=\"*\"):\n",
    "    df = pd.DataFrame()\n",
    "    while df.empty:\n",
    "        df = get_df(\n",
    "            driver,\n",
    "            By,\n",
    "            WebDriverWait,\n",
    "            expected_conditions,\n",
    "            queryselector=query,\n",
    "            with_methods=True,\n",
    "        )\n",
    "    return df\n",
    "\n"
   ]
  },
  {
   "cell_type": "code",
   "execution_count": 206,
   "metadata": {},
   "outputs": [],
   "source": [
    "driver = Driver(uc=True)\n",
    "driver.get(\"https://br.betano.com/sport/futebol/brasil/brasileirao-serie-a/10016/\")\n",
    "df = obter_dataframe(query='div')\n"
   ]
  },
  {
   "cell_type": "code",
   "execution_count": 207,
   "metadata": {},
   "outputs": [
    {
     "name": "stdout",
     "output_type": "stream",
     "text": [
      "Dados salvos em 'Odds.json'\n"
     ]
    }
   ],
   "source": [
    "df_filtered  = df.loc[df.aa_className.str.contains('vue-recycle-scroller__item-view', na=False)]\n",
    "\n",
    "def transformar_texto(texto):\n",
    "    partes = texto.split('\\n')\n",
    "    data = partes[0].replace(\"\\\\\", \"\")  # Remover a barra invertida\n",
    "    data = data.replace(\"/\", \"-\")  # Substituir a barra por um traço para evitar problemas de escape no JSON\n",
    "    return {\n",
    "        'data': data,\n",
    "        'hora': partes[1],\n",
    "        'equipes': f\"{partes[2]} x {partes[3]}\",\n",
    "        'local': partes[4] if partes[4] != '1' else \"Em local neutro\",\n",
    "        'Odd N1': partes[5],\n",
    "        'Odd NX': partes[6],\n",
    "        'Odd N2': partes[7]\n",
    "    }\n",
    "\n",
    "\n",
    "if not df_filtered.empty:\n",
    "    # Extraia e transforme o texto\n",
    "    texto_transformado = df_filtered['aa_innerText'].apply(transformar_texto)\n",
    "    \n",
    "    # Converta para um DataFrame\n",
    "    texto_df = pd.DataFrame(texto_transformado.tolist())\n",
    "    \n",
    "    # Salve o DataFrame resultante em um arquivo JSON\n",
    "    texto_df.to_json('Odds.json', orient='records', indent=4, force_ascii=False)\n",
    "    print(\"Dados salvos em 'Odds.json'\")\n",
    "else:\n",
    "    print(\"Nenhuma linha encontrada com a classe especificada\")"
   ]
  },
  {
   "cell_type": "code",
   "execution_count": 208,
   "metadata": {},
   "outputs": [],
   "source": [
    "# df.loc[df.aa_innerText.str.contains('Grêmio', regex=False, na=False)]\n"
   ]
  },
  {
   "cell_type": "code",
   "execution_count": 209,
   "metadata": {},
   "outputs": [],
   "source": [
    "# print(df.loc[0].aa_innerText)"
   ]
  }
 ],
 "metadata": {
  "kernelspec": {
   "display_name": "po_siAnaliseV01",
   "language": "python",
   "name": "python3"
  },
  "language_info": {
   "codemirror_mode": {
    "name": "ipython",
    "version": 3
   },
   "file_extension": ".py",
   "mimetype": "text/x-python",
   "name": "python",
   "nbconvert_exporter": "python",
   "pygments_lexer": "ipython3",
   "version": "3.12.2"
  }
 },
 "nbformat": 4,
 "nbformat_minor": 2
}
